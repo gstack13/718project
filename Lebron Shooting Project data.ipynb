{
 "cells": [
  {
   "cell_type": "markdown",
   "metadata": {},
   "source": [
    "# Importing Packages and Data"
   ]
  },
  {
   "cell_type": "code",
   "execution_count": 65,
   "metadata": {
    "collapsed": true
   },
   "outputs": [],
   "source": [
    "%matplotlib inline\n",
    "import seaborn as sns\n",
    "sns.set_style(\"white\")\n",
    "import matplotlib as mpl\n",
    "import matplotlib.pyplot as plt\n",
    "import warnings\n",
    "warnings.filterwarnings(\"ignore\")"
   ]
  },
  {
   "cell_type": "code",
   "execution_count": 66,
   "metadata": {
    "collapsed": false
   },
   "outputs": [],
   "source": [
    "%matplotlib inline \n",
    "from sklearn.cross_validation import cross_val_score, ShuffleSplit, train_test_split\n",
    "from sklearn.feature_selection import SelectKBest, f_regression\n",
    "from sklearn.ensemble import RandomForestRegressor\n",
    "from sklearn.metrics import mean_squared_error\n",
    "from sklearn import svm\n",
    "from sklearn import linear_model\n",
    "import pandas as pd\n",
    "from pandas import DataFrame, Series\n",
    "import numpy as np\n",
    "import os\n"
   ]
  },
  {
   "cell_type": "code",
   "execution_count": 67,
   "metadata": {
    "collapsed": false
   },
   "outputs": [],
   "source": [
    "lebron = pd.read_csv('datasets/nba/Lebron.csv', delimiter = ',')\n"
   ]
  },
  {
   "cell_type": "markdown",
   "metadata": {},
   "source": [
    "# Cleaning Data"
   ]
  },
  {
   "cell_type": "markdown",
   "metadata": {},
   "source": [
    "There are NA's in the data so I got rid of them."
   ]
  },
  {
   "cell_type": "code",
   "execution_count": 68,
   "metadata": {
    "collapsed": false
   },
   "outputs": [],
   "source": [
    "nan=float('nan')\n",
    "lebron=lebron[~np.isnan(lebron['SHOT_CLOCK'])]\n",
    "\n",
    "nan=float('nan')\n",
    "lebron=lebron[~np.isnan(lebron['FGM'])]"
   ]
  },
  {
   "cell_type": "code",
   "execution_count": 176,
   "metadata": {
    "collapsed": false
   },
   "outputs": [
    {
     "data": {
      "text/plain": [
       "Index(['GAME_ID', 'MATCHUP', 'LOCATION', 'WIN/LOSS', 'FINAL_MARGIN',\n",
       "       'SHOT_NUMBER', 'PERIOD', 'GAME_CLOCK', 'SHOT_CLOCK', 'DRIBBLES',\n",
       "       'TOUCH_TIME', 'SHOT_DIST', 'PTS_TYPE', 'SHOT_RESULT',\n",
       "       'CLOSEST_DEFENDER', 'CLOSEST_DEFENDER_PLAYER_ID', 'CLOSE_DEF_DIST',\n",
       "       'FGM', 'PTS', 'player_name', 'player_id'],\n",
       "      dtype='object')"
      ]
     },
     "execution_count": 176,
     "metadata": {},
     "output_type": "execute_result"
    }
   ],
   "source": [
    "lebron_df = pd.DataFrame(lebron)\n",
    "lebron_df.columns"
   ]
  },
  {
   "cell_type": "markdown",
   "metadata": {},
   "source": [
    "# Assigning Features and Target"
   ]
  },
  {
   "cell_type": "markdown",
   "metadata": {},
   "source": [
    "I assigned my features to 'x' and my target to 'y.'"
   ]
  },
  {
   "cell_type": "code",
   "execution_count": 315,
   "metadata": {
    "collapsed": false
   },
   "outputs": [
    {
     "data": {
      "text/html": [
       "<div>\n",
       "<table border=\"1\" class=\"dataframe\">\n",
       "  <thead>\n",
       "    <tr style=\"text-align: right;\">\n",
       "      <th></th>\n",
       "      <th>SHOT_DIST</th>\n",
       "      <th>TOUCH_TIME</th>\n",
       "      <th>CLOSE_DEF_DIST</th>\n",
       "      <th>SHOT_CLOCK</th>\n",
       "    </tr>\n",
       "  </thead>\n",
       "  <tbody>\n",
       "    <tr>\n",
       "      <th>0</th>\n",
       "      <td>7.0</td>\n",
       "      <td>9.5</td>\n",
       "      <td>0.8</td>\n",
       "      <td>13.7</td>\n",
       "    </tr>\n",
       "    <tr>\n",
       "      <th>1</th>\n",
       "      <td>5.4</td>\n",
       "      <td>7.9</td>\n",
       "      <td>2.5</td>\n",
       "      <td>15.2</td>\n",
       "    </tr>\n",
       "    <tr>\n",
       "      <th>2</th>\n",
       "      <td>23.2</td>\n",
       "      <td>5.6</td>\n",
       "      <td>3.5</td>\n",
       "      <td>12.3</td>\n",
       "    </tr>\n",
       "    <tr>\n",
       "      <th>4</th>\n",
       "      <td>3.1</td>\n",
       "      <td>2.7</td>\n",
       "      <td>3.5</td>\n",
       "      <td>20.8</td>\n",
       "    </tr>\n",
       "  </tbody>\n",
       "</table>\n",
       "</div>"
      ],
      "text/plain": [
       "   SHOT_DIST  TOUCH_TIME  CLOSE_DEF_DIST  SHOT_CLOCK\n",
       "0        7.0         9.5             0.8        13.7\n",
       "1        5.4         7.9             2.5        15.2\n",
       "2       23.2         5.6             3.5        12.3\n",
       "4        3.1         2.7             3.5        20.8"
      ]
     },
     "execution_count": 315,
     "metadata": {},
     "output_type": "execute_result"
    }
   ],
   "source": [
    "x = lebron_df [[\"SHOT_DIST\", \"TOUCH_TIME\", \"CLOSE_DEF_DIST\", \"SHOT_CLOCK\"]]\n",
    "x[0:4]"
   ]
  },
  {
   "cell_type": "code",
   "execution_count": 316,
   "metadata": {
    "collapsed": false
   },
   "outputs": [
    {
     "data": {
      "text/plain": [
       "0    0\n",
       "1    0\n",
       "2    1\n",
       "4    1\n",
       "Name: FGM, dtype: int64"
      ]
     },
     "execution_count": 316,
     "metadata": {},
     "output_type": "execute_result"
    }
   ],
   "source": [
    "y = lebron_df[\"FGM\"]\n",
    "y[0:4]"
   ]
  },
  {
   "cell_type": "markdown",
   "metadata": {},
   "source": [
    "# Rejoin x and y "
   ]
  },
  {
   "cell_type": "code",
   "execution_count": 317,
   "metadata": {
    "collapsed": false
   },
   "outputs": [],
   "source": [
    "xy = x.copy() \n",
    "xy['Target-FGM'] = y\n"
   ]
  },
  {
   "cell_type": "code",
   "execution_count": 318,
   "metadata": {
    "collapsed": false
   },
   "outputs": [
    {
     "data": {
      "text/html": [
       "<div>\n",
       "<table border=\"1\" class=\"dataframe\">\n",
       "  <thead>\n",
       "    <tr style=\"text-align: right;\">\n",
       "      <th></th>\n",
       "      <th>SHOT_DIST</th>\n",
       "      <th>TOUCH_TIME</th>\n",
       "      <th>CLOSE_DEF_DIST</th>\n",
       "      <th>SHOT_CLOCK</th>\n",
       "      <th>Target-FGM</th>\n",
       "    </tr>\n",
       "  </thead>\n",
       "  <tbody>\n",
       "    <tr>\n",
       "      <th>0</th>\n",
       "      <td>7.0</td>\n",
       "      <td>9.5</td>\n",
       "      <td>0.8</td>\n",
       "      <td>13.7</td>\n",
       "      <td>0</td>\n",
       "    </tr>\n",
       "    <tr>\n",
       "      <th>1</th>\n",
       "      <td>5.4</td>\n",
       "      <td>7.9</td>\n",
       "      <td>2.5</td>\n",
       "      <td>15.2</td>\n",
       "      <td>0</td>\n",
       "    </tr>\n",
       "    <tr>\n",
       "      <th>2</th>\n",
       "      <td>23.2</td>\n",
       "      <td>5.6</td>\n",
       "      <td>3.5</td>\n",
       "      <td>12.3</td>\n",
       "      <td>1</td>\n",
       "    </tr>\n",
       "    <tr>\n",
       "      <th>4</th>\n",
       "      <td>3.1</td>\n",
       "      <td>2.7</td>\n",
       "      <td>3.5</td>\n",
       "      <td>20.8</td>\n",
       "      <td>1</td>\n",
       "    </tr>\n",
       "    <tr>\n",
       "      <th>5</th>\n",
       "      <td>5.7</td>\n",
       "      <td>8.3</td>\n",
       "      <td>0.2</td>\n",
       "      <td>16.2</td>\n",
       "      <td>0</td>\n",
       "    </tr>\n",
       "  </tbody>\n",
       "</table>\n",
       "</div>"
      ],
      "text/plain": [
       "   SHOT_DIST  TOUCH_TIME  CLOSE_DEF_DIST  SHOT_CLOCK  Target-FGM\n",
       "0        7.0         9.5             0.8        13.7           0\n",
       "1        5.4         7.9             2.5        15.2           0\n",
       "2       23.2         5.6             3.5        12.3           1\n",
       "4        3.1         2.7             3.5        20.8           1\n",
       "5        5.7         8.3             0.2        16.2           0"
      ]
     },
     "execution_count": 318,
     "metadata": {},
     "output_type": "execute_result"
    }
   ],
   "source": [
    "xy.head(5)"
   ]
  },
  {
   "cell_type": "markdown",
   "metadata": {},
   "source": [
    "# Correlation off Features to target"
   ]
  },
  {
   "cell_type": "code",
   "execution_count": 319,
   "metadata": {
    "collapsed": false
   },
   "outputs": [
    {
     "data": {
      "text/html": [
       "<div>\n",
       "<table border=\"1\" class=\"dataframe\">\n",
       "  <thead>\n",
       "    <tr style=\"text-align: right;\">\n",
       "      <th></th>\n",
       "      <th>SHOT_DIST</th>\n",
       "      <th>TOUCH_TIME</th>\n",
       "      <th>CLOSE_DEF_DIST</th>\n",
       "      <th>SHOT_CLOCK</th>\n",
       "      <th>Target-FGM</th>\n",
       "    </tr>\n",
       "  </thead>\n",
       "  <tbody>\n",
       "    <tr>\n",
       "      <th>SHOT_DIST</th>\n",
       "      <td>1.000000</td>\n",
       "      <td>-0.021199</td>\n",
       "      <td>0.254135</td>\n",
       "      <td>-0.309658</td>\n",
       "      <td>-0.271434</td>\n",
       "    </tr>\n",
       "    <tr>\n",
       "      <th>TOUCH_TIME</th>\n",
       "      <td>-0.021199</td>\n",
       "      <td>1.000000</td>\n",
       "      <td>-0.135541</td>\n",
       "      <td>-0.397006</td>\n",
       "      <td>-0.120932</td>\n",
       "    </tr>\n",
       "    <tr>\n",
       "      <th>CLOSE_DEF_DIST</th>\n",
       "      <td>0.254135</td>\n",
       "      <td>-0.135541</td>\n",
       "      <td>1.000000</td>\n",
       "      <td>0.137943</td>\n",
       "      <td>0.042382</td>\n",
       "    </tr>\n",
       "    <tr>\n",
       "      <th>SHOT_CLOCK</th>\n",
       "      <td>-0.309658</td>\n",
       "      <td>-0.397006</td>\n",
       "      <td>0.137943</td>\n",
       "      <td>1.000000</td>\n",
       "      <td>0.173656</td>\n",
       "    </tr>\n",
       "    <tr>\n",
       "      <th>Target-FGM</th>\n",
       "      <td>-0.271434</td>\n",
       "      <td>-0.120932</td>\n",
       "      <td>0.042382</td>\n",
       "      <td>0.173656</td>\n",
       "      <td>1.000000</td>\n",
       "    </tr>\n",
       "  </tbody>\n",
       "</table>\n",
       "</div>"
      ],
      "text/plain": [
       "                SHOT_DIST  TOUCH_TIME  CLOSE_DEF_DIST  SHOT_CLOCK  Target-FGM\n",
       "SHOT_DIST        1.000000   -0.021199        0.254135   -0.309658   -0.271434\n",
       "TOUCH_TIME      -0.021199    1.000000       -0.135541   -0.397006   -0.120932\n",
       "CLOSE_DEF_DIST   0.254135   -0.135541        1.000000    0.137943    0.042382\n",
       "SHOT_CLOCK      -0.309658   -0.397006        0.137943    1.000000    0.173656\n",
       "Target-FGM      -0.271434   -0.120932        0.042382    0.173656    1.000000"
      ]
     },
     "execution_count": 319,
     "metadata": {},
     "output_type": "execute_result"
    }
   ],
   "source": [
    "xy.corr(method=\"pearson\")"
   ]
  },
  {
   "cell_type": "markdown",
   "metadata": {},
   "source": [
    "# Gaussian Naive Bayes"
   ]
  },
  {
   "cell_type": "code",
   "execution_count": 320,
   "metadata": {
    "collapsed": false
   },
   "outputs": [
    {
     "name": "stdout",
     "output_type": "stream",
     "text": [
      "Number of missed shots out of total 947 points: 361\n"
     ]
    },
    {
     "data": {
      "text/html": [
       "<div>\n",
       "<table border=\"1\" class=\"dataframe\">\n",
       "  <thead>\n",
       "    <tr style=\"text-align: right;\">\n",
       "      <th>Predicted</th>\n",
       "      <th>0</th>\n",
       "      <th>1</th>\n",
       "      <th>All</th>\n",
       "    </tr>\n",
       "    <tr>\n",
       "      <th>True</th>\n",
       "      <th></th>\n",
       "      <th></th>\n",
       "      <th></th>\n",
       "    </tr>\n",
       "  </thead>\n",
       "  <tbody>\n",
       "    <tr>\n",
       "      <th>0</th>\n",
       "      <td>350</td>\n",
       "      <td>129</td>\n",
       "      <td>479</td>\n",
       "    </tr>\n",
       "    <tr>\n",
       "      <th>1</th>\n",
       "      <td>232</td>\n",
       "      <td>236</td>\n",
       "      <td>468</td>\n",
       "    </tr>\n",
       "    <tr>\n",
       "      <th>All</th>\n",
       "      <td>582</td>\n",
       "      <td>365</td>\n",
       "      <td>947</td>\n",
       "    </tr>\n",
       "  </tbody>\n",
       "</table>\n",
       "</div>"
      ],
      "text/plain": [
       "Predicted    0    1  All\n",
       "True                    \n",
       "0          350  129  479\n",
       "1          232  236  468\n",
       "All        582  365  947"
      ]
     },
     "execution_count": 320,
     "metadata": {},
     "output_type": "execute_result"
    }
   ],
   "source": [
    "from sklearn.naive_bayes import GaussianNB\n",
    "from sklearn.metrics import confusion_matrix \n",
    "gnb = GaussianNB()\n",
    "shot_model = gnb.fit(x,y)\n",
    "pred_y = shot_model.predict(x)\n",
    "print(\"Number of missed shots out of total %d points: %d\" % ( x[\"SHOT_DIST\"].count(), (y != pred_y  ).sum()))\n",
    "\n",
    "confusion_matrix(y, pred_y)\n",
    "\n",
    "pd.crosstab(y, pred_y, rownames=['True'], colnames=['Predicted'], margins=True)"
   ]
  },
  {
   "cell_type": "markdown",
   "metadata": {},
   "source": [
    "# Model Accuracy "
   ]
  },
  {
   "cell_type": "markdown",
   "metadata": {},
   "source": [
    "Adding up the true positives(1,1) and the true negatives(0,0) and dividing by the total I can get my model acuracy for Naive Bayes."
   ]
  },
  {
   "cell_type": "code",
   "execution_count": 322,
   "metadata": {
    "collapsed": false
   },
   "outputs": [
    {
     "data": {
      "text/plain": [
       "0.6016427104722792"
      ]
     },
     "execution_count": 322,
     "metadata": {},
     "output_type": "execute_result"
    }
   ],
   "source": [
    "model_accuracy = (350+236)/974\n",
    "model_accuracy"
   ]
  },
  {
   "cell_type": "markdown",
   "metadata": {},
   "source": [
    "# More Testsing"
   ]
  },
  {
   "cell_type": "code",
   "execution_count": 171,
   "metadata": {
    "collapsed": false
   },
   "outputs": [
    {
     "name": "stdout",
     "output_type": "stream",
     "text": [
      "947\n"
     ]
    }
   ],
   "source": [
    "n_shots_taken = lebron_df[\"FGM\"].count()\n",
    "print(n_shots_taken)"
   ]
  },
  {
   "cell_type": "code",
   "execution_count": 172,
   "metadata": {
    "collapsed": false
   },
   "outputs": [
    {
     "name": "stdout",
     "output_type": "stream",
     "text": [
      "468\n"
     ]
    }
   ],
   "source": [
    "n_shots_made = lebron_df[\"FGM\"].sum()\n",
    "print(n_shots_made)"
   ]
  },
  {
   "cell_type": "code",
   "execution_count": 162,
   "metadata": {
    "collapsed": false
   },
   "outputs": [
    {
     "name": "stdout",
     "output_type": "stream",
     "text": [
      "Field Goal Percentage  49.419219%\n"
     ]
    }
   ],
   "source": [
    "fg_percentage = n_shots_made / n_shots_taken \n",
    "\n",
    "print(\"Field Goal Percentage {0: 1f}%\".format(100*fg_percentage))"
   ]
  },
  {
   "cell_type": "code",
   "execution_count": 323,
   "metadata": {
    "collapsed": false
   },
   "outputs": [],
   "source": [
    "x_all = SelectKBest(f_regression, k='all').fit_transform(x, y)"
   ]
  },
  {
   "cell_type": "code",
   "execution_count": 324,
   "metadata": {
    "collapsed": false
   },
   "outputs": [
    {
     "name": "stdout",
     "output_type": "stream",
     "text": [
      "Train, Test: 0.110564518705 0.0691145990329\n"
     ]
    }
   ],
   "source": [
    "X_train, X_test, y_train, y_test = train_test_split(x_all, y, test_size=0.30)\n",
    "regr = linear_model.LinearRegression()\n",
    "regr.fit(X_train,y_train)\n",
    "y_train_predict = regr.predict(X_train)\n",
    "y_test_predict = regr.predict(X_test)\n",
    "train_score = regr.score(X_train,y_train)\n",
    "pred_score = regr.score(X_test, y_test)\n",
    "print(\"Train, Test:\",train_score, pred_score)"
   ]
  },
  {
   "cell_type": "code",
   "execution_count": 325,
   "metadata": {
    "collapsed": false
   },
   "outputs": [
    {
     "name": "stdout",
     "output_type": "stream",
     "text": [
      "Linear Regression Accuracy: 0.08 (+/- 0.12)\n"
     ]
    }
   ],
   "source": [
    "regr = linear_model.LinearRegression()\n",
    "scores = cross_val_score(regr, x_all, y, cv=ShuffleSplit(n=len(x_all), n_iter=10, test_size=.1), scoring='r2')\n",
    "print(\"Linear Regression Accuracy: %0.2f (+/- %0.2f)\" % (scores.mean(), scores.std() * 2))"
   ]
  },
  {
   "cell_type": "code",
   "execution_count": 326,
   "metadata": {
    "collapsed": false
   },
   "outputs": [
    {
     "name": "stdout",
     "output_type": "stream",
     "text": [
      " 3-Nearest Neighbors Accuracy: -0.17 (+/- 0.26)\n",
      " 5-Nearest Neighbors Accuracy: -0.06 (+/- 0.21)\n",
      " 7-Nearest Neighbors Accuracy: -0.02 (+/- 0.17)\n",
      " 9-Nearest Neighbors Accuracy: 0.02 (+/- 0.15)\n",
      " Decision Tree Accuracy: -0.79 (+/- 0.37)\n",
      " Polynomial 2nd degree Accuracy: 0.08 (+/- 0.11)\n",
      " Polynomial 3rd degree Accuracy: 0.05 (+/- 0.15)\n",
      " Polynomial 4th degree Accuracy: -1.96 (+/- 9.64)\n",
      " Polynomial 5th degree Accuracy: -1133.06 (+/- 4560.61)\n",
      " Random Forest Accuracy: -0.09 (+/- 0.18)\n"
     ]
    }
   ],
   "source": [
    "from sklearn.neighbors import KNeighborsRegressor\n",
    "from sklearn import tree\n",
    "from sklearn.pipeline import Pipeline\n",
    "from sklearn.preprocessing import PolynomialFeatures\n",
    "from sklearn.linear_model import LinearRegression\n",
    "from sklearn.ensemble import RandomForestRegressor\n",
    "nn3_model = KNeighborsRegressor(n_neighbors=3)\n",
    "nn5_model = KNeighborsRegressor(n_neighbors=5)\n",
    "nn7_model = KNeighborsRegressor(n_neighbors=7)\n",
    "nn9_model = KNeighborsRegressor(n_neighbors=9)\n",
    "decision_tree = tree.DecisionTreeRegressor()\n",
    "poly2 = Pipeline([('poly', PolynomialFeatures(degree=2)),('linear', LinearRegression(fit_intercept=False))])\n",
    "poly3 = Pipeline([('poly', PolynomialFeatures(degree=3)),('linear', LinearRegression(fit_intercept=False))])\n",
    "poly4 = Pipeline([('poly', PolynomialFeatures(degree=4)),('linear', LinearRegression(fit_intercept=False))])\n",
    "poly5 = Pipeline([('poly', PolynomialFeatures(degree=5)),('linear', LinearRegression(fit_intercept=False))])\n",
    "rf = RandomForestRegressor()\n",
    "models = [ {'name' : '3-Nearest Neighbors', 'estimator' : nn3_model},\n",
    "          {'name' : '5-Nearest Neighbors', 'estimator' : nn5_model},\n",
    "          {'name' : '7-Nearest Neighbors', 'estimator' : nn7_model},\n",
    "          {'name' : '9-Nearest Neighbors', 'estimator' : nn9_model},\n",
    "          {'name' : 'Decision Tree', 'estimator' : decision_tree},\n",
    "          {'name' : 'Polynomial 2nd degree', 'estimator' : poly2},\n",
    "          {'name' : 'Polynomial 3rd degree', 'estimator' : poly3},\n",
    "          {'name' : 'Polynomial 4th degree', 'estimator' : poly4},\n",
    "          {'name' : 'Polynomial 5th degree', 'estimator' : poly5},\n",
    "          {'name' : 'Random Forest', 'estimator' : rf}\n",
    "         ]\n",
    "for model in models:\n",
    "    scores = cross_val_score(model['estimator'], x_all, y, cv=10, scoring='r2' )\n",
    "    print(\" %s Accuracy: %0.2f (+/- %0.2f)\" % (model['name'], scores.mean(), scores.std() * 2))"
   ]
  },
  {
   "cell_type": "markdown",
   "metadata": {},
   "source": [
    "# Descriptive Statistics"
   ]
  },
  {
   "cell_type": "code",
   "execution_count": 78,
   "metadata": {
    "collapsed": false
   },
   "outputs": [
    {
     "data": {
      "text/plain": [
       "<matplotlib.axes._subplots.AxesSubplot at 0x7f765ffe4f28>"
      ]
     },
     "execution_count": 78,
     "metadata": {},
     "output_type": "execute_result"
    },
    {
     "data": {
      "image/png": "[encoded data removed]",
      "text/plain": [
       "<matplotlib.figure.Figure at 0x7f765ea699e8>"
      ]
     },
     "metadata": {},
     "output_type": "display_data"
    }
   ],
   "source": [
    "lebron_df.plot(kind=\"scatter\", x= 'SHOT_DIST', y= 'FGM')\n"
   ]
  },
  {
   "cell_type": "code",
   "execution_count": 40,
   "metadata": {
    "collapsed": false
   },
   "outputs": [
    {
     "data": {
      "text/plain": [
       "FGM        \n",
       "0    count                 479\n",
       "     unique                175\n",
       "     top         Hill, Solomon\n",
       "     freq                   13\n",
       "1    count                 468\n",
       "     unique                194\n",
       "     top       Wiggins, Andrew\n",
       "     freq                   12\n",
       "Name: CLOSEST_DEFENDER, dtype: object"
      ]
     },
     "execution_count": 40,
     "metadata": {},
     "output_type": "execute_result"
    }
   ],
   "source": [
    "lebron_df.groupby(\"FGM\").CLOSEST_DEFENDER.describe()"
   ]
  },
  {
   "cell_type": "code",
   "execution_count": 41,
   "metadata": {
    "collapsed": false
   },
   "outputs": [
    {
     "data": {
      "text/plain": [
       "FGM       \n",
       "0    count    479.000000\n",
       "     mean      10.784760\n",
       "     std        5.969301\n",
       "     min        0.200000\n",
       "     25%        5.550000\n",
       "     50%       10.300000\n",
       "     75%       15.500000\n",
       "     max       23.000000\n",
       "1    count    468.000000\n",
       "     mean      12.976496\n",
       "     std        6.468156\n",
       "     min        0.500000\n",
       "     25%        7.900000\n",
       "     50%       12.750000\n",
       "     75%       19.000000\n",
       "     max       24.000000\n",
       "Name: SHOT_CLOCK, dtype: float64"
      ]
     },
     "execution_count": 41,
     "metadata": {},
     "output_type": "execute_result"
    }
   ],
   "source": [
    "lebron_df.groupby(\"FGM\").SHOT_CLOCK.describe()"
   ]
  },
  {
   "cell_type": "code",
   "execution_count": 102,
   "metadata": {
    "collapsed": false
   },
   "outputs": [
    {
     "data": {
      "text/plain": [
       "FGM       \n",
       "0    count    479.000000\n",
       "     mean       5.052192\n",
       "     std        5.640873\n",
       "     min        0.000000\n",
       "     25%        1.000000\n",
       "     50%        3.000000\n",
       "     75%        7.000000\n",
       "     max       26.000000\n",
       "1    count    468.000000\n",
       "     mean       4.141026\n",
       "     std        4.963398\n",
       "     min        0.000000\n",
       "     25%        0.000000\n",
       "     50%        2.000000\n",
       "     75%        6.000000\n",
       "     max       25.000000\n",
       "Name: DRIBBLES, dtype: float64"
      ]
     },
     "execution_count": 102,
     "metadata": {},
     "output_type": "execute_result"
    }
   ],
   "source": [
    "lebron_df.groupby(\"FGM\").DRIBBLES.describe()"
   ]
  },
  {
   "cell_type": "code",
   "execution_count": 327,
   "metadata": {
    "collapsed": false
   },
   "outputs": [
    {
     "data": {
      "text/plain": [
       "FGM       \n",
       "0    count    479.000000\n",
       "     mean       4.048017\n",
       "     std        2.077230\n",
       "     min        0.000000\n",
       "     25%        2.750000\n",
       "     50%        3.900000\n",
       "     75%        5.000000\n",
       "     max       12.800000\n",
       "1    count    468.000000\n",
       "     mean       4.331838\n",
       "     std        4.274894\n",
       "     min        0.000000\n",
       "     25%        2.400000\n",
       "     50%        3.700000\n",
       "     75%        4.900000\n",
       "     max       53.200000\n",
       "Name: CLOSE_DEF_DIST, dtype: float64"
      ]
     },
     "execution_count": 327,
     "metadata": {},
     "output_type": "execute_result"
    }
   ],
   "source": [
    "lebron_df.groupby(\"FGM\").CLOSE_DEF_DIST.describe()"
   ]
  },
  {
   "cell_type": "code",
   "execution_count": 328,
   "metadata": {
    "collapsed": false
   },
   "outputs": [
    {
     "data": {
      "text/plain": [
       "FGM       \n",
       "0    count    479.000000\n",
       "     mean       6.229019\n",
       "     std        4.950573\n",
       "     min        0.000000\n",
       "     25%        2.600000\n",
       "     50%        5.000000\n",
       "     75%        8.150000\n",
       "     max       23.300000\n",
       "1    count    468.000000\n",
       "     mean       5.100000\n",
       "     std        4.295229\n",
       "     min       -4.300000\n",
       "     25%        1.900000\n",
       "     50%        3.900000\n",
       "     75%        6.925000\n",
       "     max       21.700000\n",
       "Name: TOUCH_TIME, dtype: float64"
      ]
     },
     "execution_count": 328,
     "metadata": {},
     "output_type": "execute_result"
    }
   ],
   "source": [
    "lebron_df.groupby(\"FGM\").TOUCH_TIME.describe()"
   ]
  },
  {
   "cell_type": "code",
   "execution_count": 117,
   "metadata": {
    "collapsed": false
   },
   "outputs": [
    {
     "data": {
      "image/png": "[encoded data removed]",
      "text/plain": [
       "<matplotlib.figure.Figure at 0x7fbcdeb1f240>"
      ]
     },
     "metadata": {},
     "output_type": "display_data"
    }
   ],
   "source": [
    "ax = lebrondf.groupby(\"FGM\").size().plot(kind=\"bar\", figsize=(10,10))\n",
    "\n"
   ]
  },
  {
   "cell_type": "code",
   "execution_count": null,
   "metadata": {
    "collapsed": true
   },
   "outputs": [],
   "source": []
  },
  {
   "cell_type": "code",
   "execution_count": null,
   "metadata": {
    "collapsed": true
   },
   "outputs": [],
   "source": []
  },
  {
   "cell_type": "code",
   "execution_count": null,
   "metadata": {
    "collapsed": true
   },
   "outputs": [],
   "source": []
  },
  {
   "cell_type": "code",
   "execution_count": null,
   "metadata": {
    "collapsed": true
   },
   "outputs": [],
   "source": []
  },
  {
   "cell_type": "code",
   "execution_count": null,
   "metadata": {
    "collapsed": true
   },
   "outputs": [],
   "source": []
  },
  {
   "cell_type": "code",
   "execution_count": null,
   "metadata": {
    "collapsed": true
   },
   "outputs": [],
   "source": []
  },
  {
   "cell_type": "code",
   "execution_count": null,
   "metadata": {
    "collapsed": true
   },
   "outputs": [],
   "source": []
  }
 ],
 "metadata": {
  "kernelspec": {
   "display_name": "Python 3",
   "language": "python",
   "name": "python3"
  },
  "language_info": {
   "codemirror_mode": {
    "name": "ipython",
    "version": 3
   },
   "file_extension": ".py",
   "mimetype": "text/x-python",
   "name": "python",
   "nbconvert_exporter": "python",
   "pygments_lexer": "ipython3",
   "version": "3.5.2"
  }
 },
 "nbformat": 4,
 "nbformat_minor": 0
}
